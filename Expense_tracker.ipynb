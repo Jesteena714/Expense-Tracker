{
 "cells": [
  {
   "cell_type": "code",
   "execution_count": null,
   "id": "2bdfdbbf-7ea1-4f0a-a552-96a7e8f214ea",
   "metadata": {},
   "outputs": [
    {
     "name": "stdout",
     "output_type": "stream",
     "text": [
      "\n",
      "💰 EXPENSE TRACKER 💰\n",
      "1️⃣ Add Expense\n",
      "2️⃣ View Expenses\n",
      "3️⃣ Expense Summary\n",
      "4️⃣ Exit\n"
     ]
    },
    {
     "name": "stdin",
     "output_type": "stream",
     "text": [
      "\n",
      "Enter your choice:  40\n"
     ]
    },
    {
     "name": "stdout",
     "output_type": "stream",
     "text": [
      "\n",
      "⚠️ Invalid choice! Please select a valid option.\n",
      "\n",
      "\n",
      "💰 EXPENSE TRACKER 💰\n",
      "1️⃣ Add Expense\n",
      "2️⃣ View Expenses\n",
      "3️⃣ Expense Summary\n",
      "4️⃣ Exit\n"
     ]
    },
    {
     "name": "stdin",
     "output_type": "stream",
     "text": [
      "\n",
      "Enter your choice:  1\n",
      "Enter category (Food, Transport, Entertainment, etc.):  Food\n",
      "Enter expense description:  on tuesday\n",
      "Enter amount spent:  200\n"
     ]
    },
    {
     "name": "stdout",
     "output_type": "stream",
     "text": [
      "\n",
      "✅ Expense added successfully!\n",
      "\n",
      "\n",
      "💰 EXPENSE TRACKER 💰\n",
      "1️⃣ Add Expense\n",
      "2️⃣ View Expenses\n",
      "3️⃣ Expense Summary\n",
      "4️⃣ Exit\n"
     ]
    }
   ],
   "source": [
    "import csv\n",
    "import datetime\n",
    "import os\n",
    "\n",
    "\n",
    "EXPENSE_FILE = \"expenses.csv\"\n",
    "\n",
    "\n",
    "if not os.path.exists(EXPENSE_FILE):\n",
    "    with open(EXPENSE_FILE, \"w\", newline=\"\") as file:\n",
    "        writer = csv.writer(file)\n",
    "        writer.writerow([\"Date\", \"Category\", \"Description\", \"Amount\"])\n",
    "\n",
    "\n",
    "def add_expense():\n",
    "    try:\n",
    "        date = datetime.date.today().strftime(\"%Y-%m-%d\")\n",
    "        category = input(\"Enter category (Food, Transport, Entertainment, etc.): \").strip().title()\n",
    "        description = input(\"Enter expense description: \").strip()\n",
    "        amount = float(input(\"Enter amount spent: \"))\n",
    "\n",
    "        with open(EXPENSE_FILE, \"a\", newline=\"\") as file:\n",
    "            writer = csv.writer(file)\n",
    "            writer.writerow([date, category, description, amount])\n",
    "\n",
    "        print(\"\\n✅ Expense added successfully!\\n\")\n",
    "    except ValueError:\n",
    "        print(\"\\n⚠️ Invalid input! Please enter a valid amount.\\n\")\n",
    "\n",
    "\n",
    "def view_expenses():\n",
    "    try:\n",
    "        with open(EXPENSE_FILE, \"r\") as file:\n",
    "            reader = csv.reader(file)\n",
    "            data = list(reader)\n",
    "\n",
    "        if len(data) <= 1:\n",
    "            print(\"\\n📂 No expenses recorded yet!\\n\")\n",
    "            return\n",
    "\n",
    "        print(\"\\n📊 Your Expenses:\\n\")\n",
    "        for row in data[1:]:\n",
    "            print(f\"{row[0]} | {row[1]} | {row[2]} | ${row[3]}\")\n",
    "        print()\n",
    "    except Exception as e:\n",
    "        print(f\"\\n⚠️ Error reading expenses: {e}\\n\")\n",
    "\n",
    "\n",
    "def expense_summary():\n",
    "    try:\n",
    "        with open(EXPENSE_FILE, \"r\") as file:\n",
    "            reader = csv.reader(file)\n",
    "            data = list(reader)[1:]\n",
    "\n",
    "        if not data:\n",
    "            print(\"\\n📉 No expense data to summarize!\\n\")\n",
    "            return\n",
    "\n",
    "        summary = {}\n",
    "        for row in data:\n",
    "            category, amount = row[1], float(row[3])\n",
    "            summary[category] = summary.get(category, 0) + amount\n",
    "\n",
    "        print(\"\\n📌 Expense Summary:\\n\")\n",
    "        for category, total in summary.items():\n",
    "            print(f\"{category}: ${total:.2f}\")\n",
    "        print()\n",
    "    except Exception as e:\n",
    "        print(f\"\\n⚠️ Error summarizing expenses: {e}\\n\")\n",
    "\n",
    "# Main Menu\n",
    "def main():\n",
    "    while True:\n",
    "        print(\"\\n💰 EXPENSE TRACKER 💰\")\n",
    "        print(\"1️⃣ Add Expense\")\n",
    "        print(\"2️⃣ View Expenses\")\n",
    "        print(\"3️⃣ Expense Summary\")\n",
    "        print(\"4️⃣ Exit\")\n",
    "        choice = input(\"\\nEnter your choice: \")\n",
    "\n",
    "        if choice == \"1\":\n",
    "            add_expense()\n",
    "        elif choice == \"2\":\n",
    "            view_expenses()\n",
    "        elif choice == \"3\":\n",
    "            expense_summary()\n",
    "        elif choice == \"4\":\n",
    "            print(\"\\n👋 Exiting... Have a great day!\\n\")\n",
    "            break\n",
    "        else:\n",
    "            print(\"\\n⚠️ Invalid choice! Please select a valid option.\\n\")\n",
    "\n",
    "if __name__ == \"__main__\":\n",
    "    main()"
   ]
  },
  {
   "cell_type": "code",
   "execution_count": null,
   "id": "11077b29-8822-498d-bedf-4096baf76c80",
   "metadata": {},
   "outputs": [],
   "source": []
  }
 ],
 "metadata": {
  "kernelspec": {
   "display_name": "Python 3 (ipykernel)",
   "language": "python",
   "name": "python3"
  },
  "language_info": {
   "codemirror_mode": {
    "name": "ipython",
    "version": 3
   },
   "file_extension": ".py",
   "mimetype": "text/x-python",
   "name": "python",
   "nbconvert_exporter": "python",
   "pygments_lexer": "ipython3",
   "version": "3.12.7"
  }
 },
 "nbformat": 4,
 "nbformat_minor": 5
}
